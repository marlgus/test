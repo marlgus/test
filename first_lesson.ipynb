{
  "nbformat": 4,
  "nbformat_minor": 0,
  "metadata": {
    "colab": {
      "name": "first_lesson.ipynb",
      "provenance": [],
      "authorship_tag": "ABX9TyMtMvaHShxrRg8Wv9e5trYt",
      "include_colab_link": true
    },
    "kernelspec": {
      "name": "python3",
      "display_name": "Python 3"
    },
    "language_info": {
      "name": "python"
    }
  },
  "cells": [
    {
      "cell_type": "markdown",
      "metadata": {
        "id": "view-in-github",
        "colab_type": "text"
      },
      "source": [
        "<a href=\"https://colab.research.google.com/github/marlgus/test/blob/main/first_lesson.ipynb\" target=\"_parent\"><img src=\"https://colab.research.google.com/assets/colab-badge.svg\" alt=\"Open In Colab\"/></a>"
      ]
    },
    {
      "cell_type": "code",
      "execution_count": 2,
      "metadata": {
        "colab": {
          "base_uri": "https://localhost:8080/"
        },
        "id": "YFrQqypaZcCl",
        "outputId": "b53e7d0f-0b53-495b-892d-cb8de2a15b54"
      },
      "outputs": [
        {
          "output_type": "stream",
          "name": "stdout",
          "text": [
            "Hello World!\n"
          ]
        }
      ],
      "source": [
        "print(\"Hello World!\")"
      ]
    },
    {
      "cell_type": "markdown",
      "source": [
        "# This is our first lesson.\n",
        "## Hello \n",
        "### Hello \n",
        "**italic**\n",
        "\n",
        "**bold bold**\n",
        "\n",
        "`print(\"hello world!\")`\n",
        "\n",
        "- list1\n",
        "- list 2\n",
        "\n",
        "```\n",
        "print(\"hello world!\")\n",
        "print(\"hello world!\")\n",
        "```\n",
        "\n",
        "1. first\n",
        "2. second\n",
        "\n",
        "> intended Block\n",
        "> hallo\n",
        "hallo\n",
        "\n",
        "\n",
        "https://github.com/alielkassas\n",
        "this is my [Github]"
      ],
      "metadata": {
        "id": "5zsouGA2aREF"
      }
    }
  ]
}